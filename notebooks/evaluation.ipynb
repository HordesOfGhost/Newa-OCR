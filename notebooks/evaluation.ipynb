{
 "cells": [
  {
   "cell_type": "markdown",
   "metadata": {},
   "source": [
    "# Import Libraries"
   ]
  },
  {
   "cell_type": "code",
   "execution_count": 31,
   "metadata": {},
   "outputs": [],
   "source": [
    "import os\n",
    "from keras.models import Model\n",
    "from keras.layers import Input, Conv2D, MaxPooling2D, Reshape, Bidirectional, LSTM, Dense, Lambda, Activation, BatchNormalization, Dropout\n",
    "\n",
    "import sys\n",
    "from glob import glob\n",
    "sys.path.append('D:/gits/Newa-OCR/')   \n",
    "\n",
    "from utils.preprocess import *\n",
    "from utils.dict import *\n",
    "from utils.load_model import *\n",
    "from utils.inference import *\n",
    "from utils.translate import *"
   ]
  },
  {
   "cell_type": "markdown",
   "metadata": {},
   "source": [
    "# List Models"
   ]
  },
  {
   "cell_type": "code",
   "execution_count": 26,
   "metadata": {},
   "outputs": [],
   "source": [
    "root_dir = '../models'\n",
    "models = []\n",
    "for root, dir, files in os.walk(root_dir):\n",
    "    dirs = root.split(os.sep)\n",
    "    if len(dirs) > 2 and dirs[-2] in ['pracalit','ranjana','pracalit_ranjana']:\n",
    "        models.append([dirs[-2],dirs[-1]])"
   ]
  },
  {
   "cell_type": "code",
   "execution_count": 27,
   "metadata": {},
   "outputs": [
    {
     "name": "stdout",
     "output_type": "stream",
     "text": [
      "[['pracalit', 'gray'], ['pracalit', 'rgb'], ['pracalit_ranjana', 'gray'], ['pracalit_ranjana', 'rgb'], ['ranjana', 'gray'], ['ranjana', 'rgb']]\n"
     ]
    }
   ],
   "source": [
    "print(models)"
   ]
  },
  {
   "cell_type": "markdown",
   "metadata": {},
   "source": [
    "# Parse Through Models and get Metrics"
   ]
  },
  {
   "cell_type": "code",
   "execution_count": 62,
   "metadata": {},
   "outputs": [
    {
     "name": "stdout",
     "output_type": "stream",
     "text": [
      "**********************************\n",
      "For best  Model gray pracalit\n",
      "Correct characters predicted : 46.01%\n",
      "Correct words predicted      : 47.50%\n",
      "**********************************\n",
      "**********************************\n",
      "For best  Model rgb pracalit\n",
      "Correct characters predicted : 0.21%\n",
      "Correct words predicted      : 0.00%\n",
      "**********************************\n"
     ]
    },
    {
     "ename": "error",
     "evalue": "OpenCV(4.10.0) D:\\a\\opencv-python\\opencv-python\\opencv\\modules\\imgproc\\src\\color.cpp:196: error: (-215:Assertion failed) !_src.empty() in function 'cv::cvtColor'\n",
     "output_type": "error",
     "traceback": [
      "\u001b[1;31m---------------------------------------------------------------------------\u001b[0m",
      "\u001b[1;31merror\u001b[0m                                     Traceback (most recent call last)",
      "Cell \u001b[1;32mIn[62], line 26\u001b[0m\n\u001b[0;32m     24\u001b[0m images \u001b[38;5;241m=\u001b[39m [cv2\u001b[38;5;241m.\u001b[39mimread(image_path) \u001b[38;5;28;01mfor\u001b[39;00m image_path \u001b[38;5;129;01min\u001b[39;00m image_paths]\n\u001b[0;32m     25\u001b[0m \u001b[38;5;28;01mif\u001b[39;00m color_channel \u001b[38;5;241m==\u001b[39m\u001b[38;5;124m'\u001b[39m\u001b[38;5;124mgray\u001b[39m\u001b[38;5;124m'\u001b[39m:\n\u001b[1;32m---> 26\u001b[0m     images \u001b[38;5;241m=\u001b[39m [preprocess_for_gray_channel(image) \u001b[38;5;28;01mfor\u001b[39;00m image \u001b[38;5;129;01min\u001b[39;00m images]\n\u001b[0;32m     27\u001b[0m \u001b[38;5;28;01melse\u001b[39;00m:\n\u001b[0;32m     28\u001b[0m     images \u001b[38;5;241m=\u001b[39m [preprocess_for_rgb_channel(image) \u001b[38;5;28;01mfor\u001b[39;00m image \u001b[38;5;129;01min\u001b[39;00m images]\n",
      "Cell \u001b[1;32mIn[62], line 26\u001b[0m, in \u001b[0;36m<listcomp>\u001b[1;34m(.0)\u001b[0m\n\u001b[0;32m     24\u001b[0m images \u001b[38;5;241m=\u001b[39m [cv2\u001b[38;5;241m.\u001b[39mimread(image_path) \u001b[38;5;28;01mfor\u001b[39;00m image_path \u001b[38;5;129;01min\u001b[39;00m image_paths]\n\u001b[0;32m     25\u001b[0m \u001b[38;5;28;01mif\u001b[39;00m color_channel \u001b[38;5;241m==\u001b[39m\u001b[38;5;124m'\u001b[39m\u001b[38;5;124mgray\u001b[39m\u001b[38;5;124m'\u001b[39m:\n\u001b[1;32m---> 26\u001b[0m     images \u001b[38;5;241m=\u001b[39m [\u001b[43mpreprocess_for_gray_channel\u001b[49m\u001b[43m(\u001b[49m\u001b[43mimage\u001b[49m\u001b[43m)\u001b[49m \u001b[38;5;28;01mfor\u001b[39;00m image \u001b[38;5;129;01min\u001b[39;00m images]\n\u001b[0;32m     27\u001b[0m \u001b[38;5;28;01melse\u001b[39;00m:\n\u001b[0;32m     28\u001b[0m     images \u001b[38;5;241m=\u001b[39m [preprocess_for_rgb_channel(image) \u001b[38;5;28;01mfor\u001b[39;00m image \u001b[38;5;129;01min\u001b[39;00m images]\n",
      "File \u001b[1;32mD:\\gits/Newa-OCR\\utils\\preprocess.py:11\u001b[0m, in \u001b[0;36mpreprocess_for_gray_channel\u001b[1;34m(img)\u001b[0m\n\u001b[0;32m      4\u001b[0m \u001b[38;5;28;01mdef\u001b[39;00m \u001b[38;5;21mpreprocess_for_gray_channel\u001b[39m(img):\n\u001b[0;32m      5\u001b[0m \u001b[38;5;250m    \u001b[39m\u001b[38;5;124;03m'''\u001b[39;00m\n\u001b[0;32m      6\u001b[0m \u001b[38;5;124;03m    \u001b[39;00m\n\u001b[0;32m      7\u001b[0m \u001b[38;5;124;03m        Preprocess for gray_channel.\u001b[39;00m\n\u001b[0;32m      8\u001b[0m \n\u001b[0;32m      9\u001b[0m \u001b[38;5;124;03m    '''\u001b[39;00m\n\u001b[1;32m---> 11\u001b[0m     img \u001b[38;5;241m=\u001b[39m \u001b[43mcv2\u001b[49m\u001b[38;5;241;43m.\u001b[39;49m\u001b[43mcvtColor\u001b[49m\u001b[43m(\u001b[49m\u001b[43mimg\u001b[49m\u001b[43m,\u001b[49m\u001b[43m \u001b[49m\u001b[43mcv2\u001b[49m\u001b[38;5;241;43m.\u001b[39;49m\u001b[43mCOLOR_BGR2GRAY\u001b[49m\u001b[43m)\u001b[49m\n\u001b[0;32m     12\u001b[0m     target_shape \u001b[38;5;241m=\u001b[39m (\u001b[38;5;241m64\u001b[39m, \u001b[38;5;241m256\u001b[39m)\n\u001b[0;32m     14\u001b[0m     \u001b[38;5;66;03m# Resize and convert to array\u001b[39;00m\n",
      "\u001b[1;31merror\u001b[0m: OpenCV(4.10.0) D:\\a\\opencv-python\\opencv-python\\opencv\\modules\\imgproc\\src\\color.cpp:196: error: (-215:Assertion failed) !_src.empty() in function 'cv::cvtColor'\n"
     ]
    }
   ],
   "source": [
    "checkpoint= 'best'\n",
    "\n",
    "\n",
    "for model in models:\n",
    "    \n",
    "    # model dirs\n",
    "    model_dir = '../models/' + \"/\".join(model)\n",
    "    dataset_dir = f\"../dataset/{model[-2]}/{model[-1]}\"\n",
    "\n",
    "    # color channels\n",
    "    color_channel = model[-1]\n",
    "    \n",
    "    # get num_of_characters and char_dict\n",
    "    num_of_characters, char_dict = get_dict(model_dir)\n",
    "\n",
    "    # get model\n",
    "    ocr_model = ocr_model = load_model_weights(model_dir, checkpoint, color_channel, num_of_characters)\n",
    "\n",
    "    # get image paths and preprocess\n",
    "    with open(f\"{dataset_dir}/label.txt\",\"r\",encoding='utf=8') as f:\n",
    "        infos = f.readlines()\n",
    "    image_paths = [info.split(\"\\t\")[0].replace(\"/kaggle/input/dataset/\",\"../dataset/\").replace(\"test/\",\"\") for info in infos]\n",
    "\n",
    "    images = [cv2.imread(image_path) for image_path in image_paths]\n",
    "    if color_channel =='gray':\n",
    "        images = [preprocess_for_gray_channel(image) for image in images]\n",
    "    else:\n",
    "        images = [preprocess_for_rgb_channel(image) for image in images]\n",
    "    \n",
    "    # predicted labels\n",
    "    prediction = [predict(ocr_model, image, char_dict) for image in images]\n",
    "    \n",
    "    # get true labels\n",
    "    true_labels = [label.split(\"\\t\")[-1].strip() for label in infos] \n",
    "\n",
    "    # evaluate\n",
    "    correct_char = 0\n",
    "    total_char = 0\n",
    "    correct = 0\n",
    "    for i in range(len(true_labels)):\n",
    "        \n",
    "        pr = prediction[i]\n",
    "        tr = true_labels[i]\n",
    "        total_char += len(tr)\n",
    "        \n",
    "        for j in range(min(len(tr), len(pr))):\n",
    "            if tr[j] == pr[j]:\n",
    "                correct_char += 1\n",
    "                \n",
    "        if pr == tr :\n",
    "            correct += 1 \n",
    "\n",
    "    print(\"**********************************\")\n",
    "    print(f\"For {checkpoint}  Model {model[-1]} {model[-2]}\")\n",
    "    print('Correct characters predicted : %.2f%%' %(correct_char*100/total_char))\n",
    "    print('Correct words predicted      : %.2f%%' %(correct*100/len(true_labels)))\n",
    "    print(\"**********************************\")"
   ]
  },
  {
   "cell_type": "code",
   "execution_count": null,
   "metadata": {},
   "outputs": [],
   "source": [
    "checkpoint= 'latest'\n",
    "\n",
    "\n",
    "for model in models:\n",
    "    \n",
    "    # model dirs\n",
    "    model_dir = '../models/' + \"/\".join(model)\n",
    "    dataset_dir = f\"../dataset/{model[-2]}/{model[-1]}\"\n",
    "\n",
    "    # color channels\n",
    "    color_channel = model[-1]\n",
    "    \n",
    "    # get num_of_characters and char_dict\n",
    "    num_of_characters, char_dict = get_dict(model_dir)\n",
    "\n",
    "    # get model\n",
    "    ocr_model = ocr_model = load_model_weights(model_dir, checkpoint, color_channel, num_of_characters)\n",
    "\n",
    "    # get image paths and preprocess\n",
    "    with open(f\"{dataset_dir}/label.txt\",\"r\",encoding='utf=8') as f:\n",
    "        infos = f.readlines()\n",
    "    image_paths = [info.split(\"\\t\")[0].replace(\"/kaggle/input/dataset/\",\"../dataset/\").replace(\"test/\",\"\") for info in infos]\n",
    "\n",
    "    images = [cv2.imread(image_path) for image_path in image_paths]\n",
    "    if color_channel =='gray':\n",
    "        images = [preprocess_for_gray_channel(image) for image in images]\n",
    "    else:\n",
    "        images = [preprocess_for_rgb_channel(image) for image in images]\n",
    "    \n",
    "    # predicted labels\n",
    "    prediction = [predict(ocr_model, image, char_dict) for image in images]\n",
    "    \n",
    "    # get true labels\n",
    "    true_labels = [label.split(\"\\t\")[-1].strip() for label in infos] \n",
    "\n",
    "    # evaluate\n",
    "    correct_char = 0\n",
    "    total_char = 0\n",
    "    correct = 0\n",
    "    for i in range(len(true_labels)):\n",
    "        \n",
    "        pr = prediction[i]\n",
    "        tr = true_labels[i]\n",
    "        total_char += len(tr)\n",
    "        \n",
    "        for j in range(min(len(tr), len(pr))):\n",
    "            if tr[j] == pr[j]:\n",
    "                correct_char += 1\n",
    "                \n",
    "        if pr == tr :\n",
    "            correct += 1 \n",
    "\n",
    "    print(\"**********************************\")\n",
    "    print(f\"For {checkpoint}  Model {model[-1]} {model[-2]}\")\n",
    "    print('Correct characters predicted : %.2f%%' %(correct_char*100/total_char))\n",
    "    print('Correct words predicted      : %.2f%%' %(correct*100/len(true_labels)))\n",
    "    print(\"**********************************\")"
   ]
  }
 ],
 "metadata": {
  "kernelspec": {
   "display_name": "newanexus",
   "language": "python",
   "name": "python3"
  },
  "language_info": {
   "codemirror_mode": {
    "name": "ipython",
    "version": 3
   },
   "file_extension": ".py",
   "mimetype": "text/x-python",
   "name": "python",
   "nbconvert_exporter": "python",
   "pygments_lexer": "ipython3",
   "version": "3.10.13"
  }
 },
 "nbformat": 4,
 "nbformat_minor": 2
}
